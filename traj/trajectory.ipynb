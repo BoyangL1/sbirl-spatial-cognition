{
 "cells": [
  {
   "cell_type": "code",
   "execution_count": 1,
   "metadata": {},
   "outputs": [],
   "source": [
    "import geopandas as gpd\n",
    "import matplotlib.pyplot as plot\n",
    "from shapely import geometry\n",
    "from shapely.geometry import LineString, Point, box\n",
    "import geopandas as gpd\n",
    "import pandas as pd\n",
    "import itertools\n",
    "from collections import deque,namedtuple\n",
    "import numpy as np\n",
    "import concurrent.futures\n",
    "from tqdm import tqdm"
   ]
  },
  {
   "cell_type": "markdown",
   "metadata": {},
   "source": [
    "# prepare data"
   ]
  },
  {
   "cell_type": "code",
   "execution_count": 2,
   "metadata": {},
   "outputs": [
    {
     "data": {
      "text/html": [
       "<div>\n",
       "<style scoped>\n",
       "    .dataframe tbody tr th:only-of-type {\n",
       "        vertical-align: middle;\n",
       "    }\n",
       "\n",
       "    .dataframe tbody tr th {\n",
       "        vertical-align: top;\n",
       "    }\n",
       "\n",
       "    .dataframe thead th {\n",
       "        text-align: right;\n",
       "    }\n",
       "</style>\n",
       "<table border=\"1\" class=\"dataframe\">\n",
       "  <thead>\n",
       "    <tr style=\"text-align: right;\">\n",
       "      <th></th>\n",
       "      <th>who</th>\n",
       "      <th>stime</th>\n",
       "      <th>etime</th>\n",
       "      <th>date</th>\n",
       "      <th>poi_id_o</th>\n",
       "      <th>poi_id_d</th>\n",
       "      <th>r</th>\n",
       "      <th>t</th>\n",
       "      <th>mode</th>\n",
       "      <th>lambda_o</th>\n",
       "      <th>phi_o</th>\n",
       "      <th>lambda_d</th>\n",
       "      <th>phi_d</th>\n",
       "    </tr>\n",
       "  </thead>\n",
       "  <tbody>\n",
       "    <tr>\n",
       "      <th>0</th>\n",
       "      <td>69540422</td>\n",
       "      <td>2019-01-01 16:38:48</td>\n",
       "      <td>2019-01-01 16:58:44</td>\n",
       "      <td>20190101</td>\n",
       "      <td>0</td>\n",
       "      <td>5.0</td>\n",
       "      <td>12419</td>\n",
       "      <td>1196</td>\n",
       "      <td>4</td>\n",
       "      <td>113.842141</td>\n",
       "      <td>22.592980</td>\n",
       "      <td>113.935203</td>\n",
       "      <td>22.520286</td>\n",
       "    </tr>\n",
       "    <tr>\n",
       "      <th>1</th>\n",
       "      <td>69540422</td>\n",
       "      <td>2019-06-09 11:59:48</td>\n",
       "      <td>2019-06-09 12:30:52</td>\n",
       "      <td>20190609</td>\n",
       "      <td>0</td>\n",
       "      <td>1.0</td>\n",
       "      <td>4596</td>\n",
       "      <td>1864</td>\n",
       "      <td>4</td>\n",
       "      <td>113.909429</td>\n",
       "      <td>22.575772</td>\n",
       "      <td>113.942054</td>\n",
       "      <td>22.548366</td>\n",
       "    </tr>\n",
       "    <tr>\n",
       "      <th>2</th>\n",
       "      <td>69540422</td>\n",
       "      <td>2019-06-15 11:56:13</td>\n",
       "      <td>2019-06-15 12:26:25</td>\n",
       "      <td>20190615</td>\n",
       "      <td>0</td>\n",
       "      <td>1.0</td>\n",
       "      <td>4596</td>\n",
       "      <td>1812</td>\n",
       "      <td>4</td>\n",
       "      <td>113.909429</td>\n",
       "      <td>22.575772</td>\n",
       "      <td>113.942054</td>\n",
       "      <td>22.548366</td>\n",
       "    </tr>\n",
       "    <tr>\n",
       "      <th>3</th>\n",
       "      <td>69540422</td>\n",
       "      <td>2019-06-18 08:15:08</td>\n",
       "      <td>2019-06-18 08:27:48</td>\n",
       "      <td>20190618</td>\n",
       "      <td>0</td>\n",
       "      <td>1.0</td>\n",
       "      <td>4242</td>\n",
       "      <td>760</td>\n",
       "      <td>4</td>\n",
       "      <td>113.909429</td>\n",
       "      <td>22.575772</td>\n",
       "      <td>113.942054</td>\n",
       "      <td>22.548366</td>\n",
       "    </tr>\n",
       "    <tr>\n",
       "      <th>4</th>\n",
       "      <td>69540422</td>\n",
       "      <td>2019-06-11 12:03:13</td>\n",
       "      <td>2019-06-11 12:36:30</td>\n",
       "      <td>20190611</td>\n",
       "      <td>0</td>\n",
       "      <td>1.0</td>\n",
       "      <td>4596</td>\n",
       "      <td>1997</td>\n",
       "      <td>4</td>\n",
       "      <td>113.909429</td>\n",
       "      <td>22.575772</td>\n",
       "      <td>113.942054</td>\n",
       "      <td>22.548366</td>\n",
       "    </tr>\n",
       "  </tbody>\n",
       "</table>\n",
       "</div>"
      ],
      "text/plain": [
       "        who                stime                etime      date  poi_id_o  \\\n",
       "0  69540422  2019-01-01 16:38:48  2019-01-01 16:58:44  20190101         0   \n",
       "1  69540422  2019-06-09 11:59:48  2019-06-09 12:30:52  20190609         0   \n",
       "2  69540422  2019-06-15 11:56:13  2019-06-15 12:26:25  20190615         0   \n",
       "3  69540422  2019-06-18 08:15:08  2019-06-18 08:27:48  20190618         0   \n",
       "4  69540422  2019-06-11 12:03:13  2019-06-11 12:36:30  20190611         0   \n",
       "\n",
       "   poi_id_d      r     t  mode    lambda_o      phi_o    lambda_d      phi_d  \n",
       "0       5.0  12419  1196     4  113.842141  22.592980  113.935203  22.520286  \n",
       "1       1.0   4596  1864     4  113.909429  22.575772  113.942054  22.548366  \n",
       "2       1.0   4596  1812     4  113.909429  22.575772  113.942054  22.548366  \n",
       "3       1.0   4242   760     4  113.909429  22.575772  113.942054  22.548366  \n",
       "4       1.0   4596  1997     4  113.909429  22.575772  113.942054  22.548366  "
      ]
     },
     "execution_count": 2,
     "metadata": {},
     "output_type": "execute_result"
    }
   ],
   "source": [
    "move=pd.read_csv('../data/traj data/move_relocation_rango.csv')\n",
    "move.head(5)"
   ]
  },
  {
   "cell_type": "code",
   "execution_count": null,
   "metadata": {},
   "outputs": [],
   "source": [
    "routes = gpd.read_file('./data/nanshan_traj.shp')\n",
    "routes=routes.to_crs('EPSG:4326')\n",
    "routes = routes[routes['age'] != 16]\n",
    "district=gpd.read_file('./data/nanshan_grid.shp')"
   ]
  },
  {
   "cell_type": "code",
   "execution_count": null,
   "metadata": {},
   "outputs": [],
   "source": [
    "routes = routes.dropna(subset=['geometry'])"
   ]
  },
  {
   "cell_type": "code",
   "execution_count": null,
   "metadata": {},
   "outputs": [],
   "source": [
    "print(set(routes['age']))\n",
    "print(set(routes['gender']))"
   ]
  },
  {
   "cell_type": "code",
   "execution_count": null,
   "metadata": {},
   "outputs": [],
   "source": [
    "young_men = routes[(routes['age'] >= 4) & (routes['age'] <= 7) & (routes['gender'] == 1)]\n",
    "young_women = routes[(routes['age'] >= 4) & (routes['age'] <= 7) & (routes['gender'] == 2)]\n",
    "middle_men =  routes[(routes['age'] >= 8) & (routes['age'] <= 13) & (routes['gender'] == 1)]\n",
    "middle_women = routes[(routes['age'] >= 8) & (routes['age'] <= 13) & (routes['gender'] == 2)]\n",
    "old_men = routes[(routes['age'] >= 14) & (routes['gender'] == 1)]\n",
    "old_women = routes[(routes['age'] >= 14) & (routes['gender'] == 2)]"
   ]
  },
  {
   "cell_type": "code",
   "execution_count": null,
   "metadata": {},
   "outputs": [],
   "source": [
    "print(len(young_men),len(young_women),len(middle_men),len(middle_women),len(old_men),len(old_women))"
   ]
  },
  {
   "cell_type": "markdown",
   "metadata": {},
   "source": [
    "# Function"
   ]
  },
  {
   "cell_type": "code",
   "execution_count": null,
   "metadata": {},
   "outputs": [],
   "source": [
    "def getFnidByPoint(first_point, second_point):\n",
    "    fnid_list = []\n",
    "\n",
    "    # Create LineString from first_point to second_point\n",
    "    line = LineString([first_point, second_point])\n",
    "    line_series = gpd.GeoSeries([line], crs=4326)\n",
    "    line_utm = line_series.to_crs(32650)\n",
    "\n",
    "    dist = line_utm.length.iloc[0]\n",
    "    delta = int(dist // 50)\n",
    "\n",
    "    x_diff = second_point[0] - first_point[0]\n",
    "    y_diff = second_point[1] - first_point[1]\n",
    "    x_values = np.linspace(first_point[0], second_point[0], delta + 1)\n",
    "    y_values = np.linspace(first_point[1], second_point[1], delta + 1)\n",
    "    interpolation_points = [Point(x, y) for x, y in zip(x_values, y_values)]\n",
    "\n",
    "    # Perform overlay analysis for each point\n",
    "    intersect = gpd.overlay(district, gpd.GeoDataFrame(geometry=interpolation_points, crs=4326), how='intersection', keep_geom_type=False)\n",
    "    fnid_list.extend(intersect['fnid'])\n",
    "\n",
    "    return fnid_list"
   ]
  },
  {
   "cell_type": "code",
   "execution_count": null,
   "metadata": {},
   "outputs": [],
   "source": [
    "def routeToFnid(routes):\n",
    "    def process_route(route):\n",
    "        geometry_ = route\n",
    "        q = deque(geometry_.coords)\n",
    "        first_point = q.popleft()\n",
    "        states = set()  # 使用集合来存储状态，以去重\n",
    "        while q:\n",
    "            second_point = q.popleft()\n",
    "            fnid_list = getFnidByPoint(first_point, second_point)\n",
    "            if fnid_list:\n",
    "                states.update(fnid_list)\n",
    "            first_point = second_point\n",
    "        return list(states)\n",
    "\n",
    "    print('the length of routes is {}'.format(len(routes)))\n",
    "    routes_states = []\n",
    "    with concurrent.futures.ThreadPoolExecutor() as executor:\n",
    "        results = list(tqdm(executor.map(process_route, routes.geometry), total=len(routes)))\n",
    "        for i, states_unique in enumerate(results):\n",
    "            routes_states.append(states_unique)\n",
    "\n",
    "    routes_states = np.array(routes_states)\n",
    "    return routes_states"
   ]
  },
  {
   "cell_type": "code",
   "execution_count": null,
   "metadata": {},
   "outputs": [],
   "source": [
    "actions = [0, 1, 2, 3, 4]\n",
    "dirs = {0: 'r', 1: 'l', 2: 'd', 3: 'u', 4: 's'}\n",
    "Step=namedtuple('Step',['state','action'])\n",
    "\n",
    "def getActionOfStates(route_state):\n",
    "    state_action = []\n",
    "    length = len(route_state)\n",
    "\n",
    "    if length == 1:\n",
    "        step = Step(state=route_state[0], action=4)\n",
    "        state_action.append(step)\n",
    "        return state_action\n",
    "\n",
    "    diff = np.diff(route_state) \n",
    "    def getAction(diff_value):\n",
    "        if diff_value == 1:\n",
    "            return 0\n",
    "        elif diff_value == -1:\n",
    "            return 1\n",
    "        elif diff_value == 357:\n",
    "            return 3\n",
    "        elif diff_value == -357:\n",
    "            return 2\n",
    "        else:\n",
    "            return 4  \n",
    "\n",
    "    actions = np.vectorize(getAction)(diff) \n",
    "\n",
    "    for i, action in enumerate(actions):\n",
    "        step = Step(state=route_state[i], action=action)\n",
    "        state_action.append(step)\n",
    "\n",
    "    step = Step(state=route_state[-1], action=4)\n",
    "    state_action.append(step)\n",
    "\n",
    "    return state_action"
   ]
  },
  {
   "cell_type": "code",
   "execution_count": null,
   "metadata": {},
   "outputs": [],
   "source": [
    "import random\n",
    "\n",
    "# If the amount of data is too large, downsampling can be performed\n",
    "def randomSelectLines(geodataframe, percent_to_select=0.7):\n",
    "    total_lines = len(geodataframe)\n",
    "    if total_lines<1000:\n",
    "        num_lines_to_select = int(total_lines * 1)\n",
    "        random_line_indices = random.sample(range(total_lines), num_lines_to_select)\n",
    "        randomly_selected_lines = geodataframe.iloc[random_line_indices]\n",
    "        return randomly_selected_lines\n",
    "\n",
    "    num_lines_to_select = int(total_lines * (percent_to_select))\n",
    "    random_line_indices = random.sample(range(total_lines), num_lines_to_select)\n",
    "    randomly_selected_lines = geodataframe.iloc[random_line_indices]\n",
    "    return randomly_selected_lines"
   ]
  },
  {
   "cell_type": "code",
   "execution_count": null,
   "metadata": {},
   "outputs": [],
   "source": [
    "def routeToTuple(routes,save_file):\n",
    "    routes=randomSelectLines(routes)\n",
    "    routes_states=routeToFnid(routes)\n",
    "    state_action_tuple=[]\n",
    "    for route_state in tqdm(routes_states):\n",
    "        sta_act=getActionOfStates(route_state)\n",
    "        state_action_tuple.append(sta_act)\n",
    "    print(state_action_tuple[0])\n",
    "    state_action_tuple=np.array(state_action_tuple)\n",
    "    np.save(save_file,state_action_tuple) "
   ]
  },
  {
   "cell_type": "markdown",
   "metadata": {},
   "source": [
    "# main function"
   ]
  },
  {
   "cell_type": "code",
   "execution_count": null,
   "metadata": {},
   "outputs": [],
   "source": [
    "routeToTuple(young_men,'./data/routes_states/0_0_states_tuple.npy')"
   ]
  },
  {
   "cell_type": "code",
   "execution_count": null,
   "metadata": {},
   "outputs": [],
   "source": [
    "import numpy as np \n",
    "np.load('./data/routes_states/1_2_states_tuple.npy',allow_pickle=True)"
   ]
  }
 ],
 "metadata": {
  "kernelspec": {
   "display_name": "Python 3.7.11 ('django')",
   "language": "python",
   "name": "python3"
  },
  "language_info": {
   "codemirror_mode": {
    "name": "ipython",
    "version": 3
   },
   "file_extension": ".py",
   "mimetype": "text/x-python",
   "name": "python",
   "nbconvert_exporter": "python",
   "pygments_lexer": "ipython3",
   "version": "3.7.11"
  },
  "orig_nbformat": 4,
  "vscode": {
   "interpreter": {
    "hash": "764d3ea85697cfb78fbfbf4297caf293f5408afbb175a5f0ffc0949cef450b37"
   }
  }
 },
 "nbformat": 4,
 "nbformat_minor": 2
}
